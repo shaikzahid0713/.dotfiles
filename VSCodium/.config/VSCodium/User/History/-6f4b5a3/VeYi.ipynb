{
 "cells": [
  {
   "cell_type": "markdown",
   "metadata": {},
   "source": [
    "# Object Oriented Programming"
   ]
  },
  {
   "cell_type": "markdown",
   "metadata": {},
   "source": [
    "## Class and Objects"
   ]
  },
  {
   "cell_type": "code",
   "execution_count": 5,
   "metadata": {
    "vscode": {
     "languageId": "java"
    }
   },
   "outputs": [
    {
     "name": "stdout",
     "output_type": "stream",
     "text": [
      "15.5\n",
      "-5.5\n",
      "52.5\n",
      "0.47619047619047616\n"
     ]
    }
   ],
   "source": [
    "public class SimpleCalculator {\n",
    "    private double firstNumber;\n",
    "    private double secondNumber;\n",
    "    \n",
    "    public void setFirstNumber(double firstNumber) {\n",
    "        this.firstNumber = firstNumber;\n",
    "    }\n",
    "    \n",
    "    public void setSecondNumber(double secondNumber) {\n",
    "        this.secondNumber = secondNumber;\n",
    "    }\n",
    "    \n",
    "    public double getFirstNumber() {\n",
    "        return this.firstNumber;\n",
    "    }\n",
    "    \n",
    "    public double getSecondNumber() {\n",
    "        return this.secondNumber;\n",
    "    }\n",
    "    \n",
    "    public double getAdditionResult() {\n",
    "        return this.firstNumber + this.secondNumber;\n",
    "    }\n",
    "    \n",
    "    public double getSubtractionResult() {\n",
    "        return this.firstNumber - this.secondNumber;\n",
    "    }\n",
    "    \n",
    "    public double getMultiplicationResult() {\n",
    "        return this.firstNumber * this.secondNumber;\n",
    "    }\n",
    "    \n",
    "    public double getDivisionResult() {\n",
    "        if (this.secondNumber == 0) return 0.0;\n",
    "        return this.firstNumber / this.secondNumber;\n",
    "    }\n",
    "    \n",
    "}\n",
    "\n",
    "SimpleCalculator simpleCalculator = new SimpleCalculator();\n",
    "simpleCalculator.setFirstNumber(5.0);\n",
    "simpleCalculator.setSecondNumber(10.5);\n",
    "\n",
    "System.out.println(simpleCalculator.getAdditionResult());\n",
    "System.out.println(simpleCalculator.getSubtractionResult());\n",
    "System.out.println(simpleCalculator.getMultiplicationResult());\n",
    "System.out.println(simpleCalculator.getDivisionResult());"
   ]
  },
  {
   "cell_type": "code",
   "execution_count": 8,
   "metadata": {
    "vscode": {
     "languageId": "java"
    }
   },
   "outputs": [],
   "source": [
    "public class Person {\n",
    "    private String firstName;\n",
    "    private String lastName;\n",
    "    private int age;\n",
    "\n",
    "    public void setFirstName(String firstName) {\n",
    "        this.firstName = firstName;\n",
    "    }\n",
    "    \n",
    "    public void setLastName(String lastName) {\n",
    "        this.lastName = lastName;\n",
    "    }\n",
    "    \n",
    "    public void setAge(int age) {\n",
    "        if (age > 0 && age <= 100) \n",
    "            this.age = age;\n",
    "        age = 0;\n",
    "    }\n",
    "    \n",
    "    public boolean isTeen() {\n",
    "        if (age > 12 && age < 20) return true;\n",
    "        return false;\n",
    "    }\n",
    "\n",
    "    public String getFirstName() {\n",
    "        return this.firstName;\n",
    "    }\n",
    "    \n",
    "    public String getLastName() {\n",
    "        return this.lastName;\n",
    "    }\n",
    "    \n",
    "    public int getAge() {\n",
    "        return this.age;\n",
    "    }\n",
    "    \n",
    "    public String getFullName() {\n",
    "        String fullName = \"\";\n",
    "        if (firstName.isEmpty() && lastName.isEmpty()) return fullName;\n",
    "        else if (firstName.isEmpty()) fullName += lastName;\n",
    "        else if (lastName.isEmpty()) fullName += firstName;\n",
    "        else fullName += firstName + \" \" + lastName;\n",
    "        return fullName;\n",
    "    }\n",
    "}"
   ]
  },
  {
   "cell_type": "code",
   "execution_count": null,
   "metadata": {
    "vscode": {
     "languageId": "java"
    }
   },
   "outputs": [],
   "source": [
    "public class BankAccount {\n",
    "    private String accountNumber;\n",
    "    private double balance = 0;\n",
    "    private String customerName;\n",
    "    private String customerEmail;\n",
    "    private String customerMobileNumber;\n",
    "\n",
    "    public void setAccountNumber(String accountNumber) {\n",
    "        this.accountNumber = accountNumber;\n",
    "    }\n",
    "    \n",
    "    public void setBalance(double balance) {\n",
    "        if (balance > 0) this.balance = balance;\n",
    "        this.balance = 0;\n",
    "    }\n",
    "    \n",
    "    public void setCustomerName(String customerName) {\n",
    "        this.customerName = customerName;\n",
    "    }\n",
    "    \n",
    "    public void setCustomerEmail(String customerEmail) {\n",
    "        this.customerEmail = customerEmail;\n",
    "    }\n",
    "    \n",
    "    public void setCustomerMobileNumber(String customerMobileNumber) {\n",
    "        this.customerMobileNumber = customerMobileNumber;\n",
    "    }\n",
    "    \n",
    "    public String getAccountNumber() {\n",
    "        return this.accountNumber;\n",
    "    }\n",
    "    \n",
    "    public double getBalance() {\n",
    "        return this.balance;\n",
    "    }\n",
    "    \n",
    "    public String getCustomerName() {\n",
    "        return this.customerName;\n",
    "    }\n",
    "    \n",
    "    public String getCustomerEmail() {\n",
    "        return this.customerEmail;\n",
    "    }\n",
    "    \n",
    "    public String getCustomerMobileNumber() {\n",
    "        return this.customerMobileNumber;\n",
    "    }\n",
    "    \n",
    "    public void depositAmount(double depositAmount) {\n",
    "        this.balance += depositAmount;\n",
    "        System.out.println(\"Deposit of amount processed. Available balance is \" + this.balance);\n",
    "    } \n",
    "    \n",
    "    public void withdrawalAmount(double withdrawalAmount) {\n",
    "        if (this.balance - withdrawalAmount < 0) \n",
    "            System.out.println(\"Withdrawal not possible. Available balance is \" + this.balance);\n",
    "        else {\n",
    "            this.balance -= withdrawalAmount;\n",
    "            System.out.println(\"Withdrawal of \" + withdrawalAmount + \" processed. Available balance is \" + this.balance);\n",
    "        }\n",
    "    }\n",
    "}"
   ]
  },
  {
   "cell_type": "code",
   "execution_count": 2,
   "metadata": {
    "vscode": {
     "languageId": "java"
    }
   },
   "outputs": [
    {
     "ename": "CompilationException",
     "evalue": "",
     "output_type": "error",
     "traceback": [
      "\u001b[1m\u001b[30m|   \u001b[1m\u001b[30m\u001b[0m\u001b[1m\u001b[30m\u001b[41mcar\u001b[0m\u001b[1m\u001b[30m porsche = new car();\u001b[0m",
      "\u001b[1m\u001b[31mcannot find symbol\u001b[0m",
      "\u001b[1m\u001b[31m  symbol:   class car\u001b[0m",
      "",
      "\u001b[1m\u001b[30m|   \u001b[1m\u001b[30mcar porsche = new \u001b[0m\u001b[1m\u001b[30m\u001b[41mcar\u001b[0m\u001b[1m\u001b[30m();\u001b[0m",
      "\u001b[1m\u001b[31mcannot find symbol\u001b[0m",
      "\u001b[1m\u001b[31m  symbol:   class car\u001b[0m",
      ""
     ]
    }
   ],
   "source": [
    "public class Car {\n",
    "    private int cardoors;\n",
    "    private int carwheels;\n",
    "    private String carmodel;\n",
    "    private String carengine;\n",
    "    private String carcolor;\n",
    "    \n",
    "    public void setcardoors(int cardoors) {\n",
    "        this.cardoors = cardoors;\n",
    "    }\n",
    "    \n",
    "    public void setcarwheels(int carwheels) {\n",
    "        this.carwheels = carwheels;\n",
    "    }\n",
    "\n",
    "    public int getcardoors() {\n",
    "        return this.cardoors;\n",
    "    }\n",
    "    public int getcarwheels() {\n",
    "        return this.carwheels;\n",
    "    }\n",
    "}\n",
    "\n",
    "car porsche = new car();\n",
    "porsche.setcardoors(4);\n",
    "porsche.getcardoors();"
   ]
  },
  {
   "cell_type": "markdown",
   "metadata": {},
   "source": [
    "## Classes Using Constructors"
   ]
  },
  {
   "cell_type": "code",
   "execution_count": null,
   "metadata": {
    "vscode": {
     "languageId": "java"
    }
   },
   "outputs": [],
   "source": []
  },
  {
   "cell_type": "code",
   "execution_count": null,
   "metadata": {
    "vscode": {
     "languageId": "java"
    }
   },
   "outputs": [],
   "source": []
  },
  {
   "cell_type": "code",
   "execution_count": null,
   "metadata": {
    "vscode": {
     "languageId": "java"
    }
   },
   "outputs": [],
   "source": []
  },
  {
   "cell_type": "code",
   "execution_count": null,
   "metadata": {
    "vscode": {
     "languageId": "java"
    }
   },
   "outputs": [],
   "source": []
  },
  {
   "cell_type": "code",
   "execution_count": null,
   "metadata": {
    "vscode": {
     "languageId": "java"
    }
   },
   "outputs": [],
   "source": []
  },
  {
   "cell_type": "code",
   "execution_count": 3,
   "metadata": {
    "vscode": {
     "languageId": "java"
    }
   },
   "outputs": [
    {
     "data": {
      "text/plain": [
       "4"
      ]
     },
     "execution_count": 3,
     "metadata": {},
     "output_type": "execute_result"
    }
   ],
   "source": []
  }
 ],
 "metadata": {
  "kernelspec": {
   "display_name": "Java",
   "language": "java",
   "name": "java"
  },
  "language_info": {
   "codemirror_mode": "java",
   "file_extension": ".jshell",
   "mimetype": "text/x-java-source",
   "name": "Java",
   "pygments_lexer": "java",
   "version": "17.0.5+1"
  },
  "orig_nbformat": 4
 },
 "nbformat": 4,
 "nbformat_minor": 2
}
